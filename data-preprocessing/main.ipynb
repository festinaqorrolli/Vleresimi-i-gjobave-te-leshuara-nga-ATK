{
 "cells": [
  {
   "cell_type": "code",
   "execution_count": null,
   "id": "initial_id",
   "metadata": {
    "collapsed": true
   },
   "outputs": [],
   "source": [
    "#INFO - Librarite e perdorura \n",
    "\n",
    "import pandas as pd\n",
    "from sklearn.decomposition import PCA\n",
    "import matplotlib.pyplot as plt\n",
    "import seaborn as sns\n",
    "import numpy as np"
   ]
  },
  {
   "cell_type": "code",
   "execution_count": null,
   "outputs": [],
   "source": [
    "# INFO - Leximi i dataset-it nga source!\n",
    "\n",
    "dataset=pd.read_csv('../data/gjobat-e-leshuara.csv')"
   ],
   "metadata": {
    "collapsed": false
   },
   "id": "17190ac5e066a078"
  },
  {
   "cell_type": "code",
   "execution_count": null,
   "outputs": [],
   "source": [
    "# Para Procesimi\n",
    "\n",
    "# Kontrollojme se a mungon ndonje vlere\n",
    "dataset.isnull().sum()\n",
    "\n",
    "# Ndryshimi i emrave te kolonave te caktuara\n",
    "dataset.rename(columns={'LLOJI_KOMPAN': 'LLOJI_KOMPANISE', 'NR_TATIM': 'NR_TATIMIT'}, inplace=True)\n",
    "print(dataset)"
   ],
   "metadata": {
    "collapsed": false
   },
   "id": "b464b89b6826aa85"
  },
  {
   "cell_type": "code",
   "execution_count": null,
   "outputs": [],
   "source": [
    "# Definimi i tipeve\n",
    "\n",
    "print(dataset.dtypes)"
   ],
   "metadata": {
    "collapsed": false
   },
   "id": "14d9bc7e761ca51c"
  },
  {
   "cell_type": "code",
   "execution_count": null,
   "outputs": [],
   "source": [
    "# Paraqitja e numrit te rreshtave dhe kolonave\n",
    "\n",
    "dataset.shape"
   ],
   "metadata": {
    "collapsed": false
   },
   "id": "39f3785a2bb2af98"
  },
  {
   "cell_type": "code",
   "execution_count": null,
   "outputs": [],
   "source": [
    "# Integrimi\n",
    "\n",
    "dataset['MUAJI/VITI'] = dataset['MUAJI'].astype(str) + '/' + dataset['VITI'].astype(str)"
   ],
   "metadata": {
    "collapsed": false
   },
   "id": "d3be5fe636546894"
  },
  {
   "cell_type": "code",
   "execution_count": null,
   "outputs": [],
   "source": [
    "# Agregimi\n",
    "\n",
    "Vlerat_bazuar_ne_vite = dataset.groupby('VITI')['VLERA'].sum()\n",
    "print(Vlerat_bazuar_ne_vite)"
   ],
   "metadata": {
    "collapsed": false
   },
   "id": "70427c93fc09c9ad"
  },
  {
   "cell_type": "code",
   "execution_count": null,
   "outputs": [],
   "source": [
    "# Mostrimi\n",
    "\n",
    "gjatesia_e_mostres = 100 \n",
    "mostra = dataset.sample(n=gjatesia_e_mostres, random_state=42)\n",
    "\n",
    "print(\"Mostrimi random:\")\n",
    "print(mostra)"
   ],
   "metadata": {
    "collapsed": false
   },
   "id": "c247c3aeeaf5dc50"
  },
  {
   "cell_type": "code",
   "execution_count": null,
   "outputs": [],
   "source": [
    "# Pastrimi\n",
    "\n",
    "print(\"Numri i rreshtave dhe kolonave para pastrimit\")\n",
    "print(dataset.shape)\n",
    "\n",
    "# Emertimi i rregullt i kolones \"KOMUNA\"\n",
    "dataset['KOMUNA'] = dataset['KOMUNA'].str.replace('Ã‹', 'Ë')\n",
    "\n",
    "print(\"Paraqitja e kolonave qe permbajne vlera null:\")\n",
    "print(dataset.isnull().sum())\n",
    "print(\"\\n\")\n",
    "\n",
    "print(\"Rreshtat duplikat:\")\n",
    "print(dataset.duplicated().sum())\n",
    "print(\"\\n\")\n",
    "\n",
    "#Largon kolonen e pare\n",
    "dataset = dataset.drop(dataset.columns[0], axis=1)\n",
    "\n",
    "# Outliners\n",
    "# Llogarit z-scores për kolonën e përcaktuar\n",
    "z_scores = (dataset['VLERA'] - dataset['VLERA'].mean()) / dataset['VLERA'].std()\n",
    "\n",
    "# Caktimi i pragut per konsiderimin e te dhënave si outliers (p.sh., 3 devijimet standard)\n",
    "pragu = 3\n",
    "\n",
    "# Krijo një maske per te identifikuar outliers\n",
    "maska_outliers = abs(z_scores) >= pragu\n",
    "\n",
    "# Nxirr dhe printo vlerat që u larguan (outliers)\n",
    "vlerat_e_larguara = dataset.loc[maska_outliers, 'VLERA']\n",
    "print(\"Vlerat që u larguan (outliers):\")\n",
    "print(vlerat_e_larguara)\n",
    "\n",
    "# Krijo një dataset të ri pa outliers\n",
    "dataset = dataset[~maska_outliers]\n",
    "\n",
    "# Shfaq informata rreth datasetit para dhe pas largimit të outliers\n",
    "print(f\"Forma origjinale e datasetit: {dataset.shape}\")\n",
    "\n",
    "# Zevendsimi i vlerave lowercase ne uppercase per kolonen 'KOMUNA'\n",
    "dataset['KOMUNA'] = dataset['KOMUNA'].str.upper()\n",
    "\n",
    "print(\"Numri i rreshtave dhe kolonave pas pastrimit\")\n",
    "print(dataset.shape)\n"
   ],
   "metadata": {
    "collapsed": false
   },
   "id": "11c3ab9aae861c94"
  },
  {
   "cell_type": "code",
   "execution_count": null,
   "outputs": [],
   "source": [
    "# Identifikimi\n",
    "\n",
    "# Shtoni identifikuesin në kolonën e parë\n",
    "dataset.insert(0, 'ID_UNIKE', dataset['MUAJI'].astype(str)+'/'+dataset['VITI'].astype(str) + '_' + dataset['PERSHKRIMI_SEKTORIT'] + '_' + dataset['LLOJI_KOMPANISE'])\n",
    "\n",
    "print(\"Printimi i dataset-it pas insertimit te kolones unike.\")\n",
    "print(dataset)"
   ],
   "metadata": {
    "collapsed": false
   },
   "id": "40cfa725ad042650"
  },
  {
   "cell_type": "code",
   "execution_count": null,
   "outputs": [],
   "source": [
    "#Binarizimi\n",
    "average_vlera = dataset['VLERA'].mean()\n",
    "\n",
    "dataset['BINARIZED_VLERA'] = dataset['VLERA'].apply(lambda x: 1 if x > average_vlera else 0)\n",
    "\n",
    "print(f\"Vlera mesatare eshte: {average_vlera}\")\n",
    "\n",
    "print(dataset)"
   ],
   "metadata": {
    "collapsed": false
   },
   "id": "51a5652a2167ca50"
  }
 ],
 "metadata": {
  "kernelspec": {
   "display_name": "Python 3",
   "language": "python",
   "name": "python3"
  },
  "language_info": {
   "codemirror_mode": {
    "name": "ipython",
    "version": 2
   },
   "file_extension": ".py",
   "mimetype": "text/x-python",
   "name": "python",
   "nbconvert_exporter": "python",
   "pygments_lexer": "ipython2",
   "version": "2.7.6"
  }
 },
 "nbformat": 4,
 "nbformat_minor": 5
}
