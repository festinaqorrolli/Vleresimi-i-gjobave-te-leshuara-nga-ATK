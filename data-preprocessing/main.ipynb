{
 "cells": [
  {
   "cell_type": "code",
   "execution_count": null,
   "id": "initial_id",
   "metadata": {
    "collapsed": true
   },
   "outputs": [],
   "source": [
    "#INFO - Librarite e perdorura \n",
    "\n",
    "import pandas as pd\n",
    "from sklearn.decomposition import PCA\n",
    "import matplotlib.pyplot as plt\n",
    "import seaborn as sns\n",
    "import numpy as np"
   ]
  },
  {
   "cell_type": "code",
   "execution_count": null,
   "outputs": [],
   "source": [
    "# INFO - Leximi i dataset-it nga source!\n",
    "\n",
    "dataset=pd.read_csv('../data/gjobat-e-leshuara.csv')"
   ],
   "metadata": {
    "collapsed": false
   },
   "id": "17190ac5e066a078"
  },
  {
   "cell_type": "code",
   "execution_count": null,
   "outputs": [],
   "source": [
    "# Para Procesimi\n",
    "\n",
    "# Kontrollojme se a mungon ndonje vlere\n",
    "dataset.isnull().sum()\n",
    "\n",
    "# Ndryshimi i emrave te kolonave te caktuara\n",
    "dataset.rename(columns={'LLOJI_KOMPAN': 'LLOJI_KOMPANISE', 'NR_TATIM': 'NR_TATIMIT'}, inplace=True)\n",
    "print(dataset)"
   ],
   "metadata": {
    "collapsed": false
   },
   "id": "b464b89b6826aa85"
  },
  {
   "cell_type": "code",
   "execution_count": null,
   "outputs": [],
   "source": [
    "# Definimi i tipeve\n",
    "\n",
    "print(dataset.dtypes)"
   ],
   "metadata": {
    "collapsed": false
   },
   "id": "14d9bc7e761ca51c"
  },
  {
   "cell_type": "code",
   "execution_count": null,
   "outputs": [],
   "source": [
    "# Paraqitja e numrit te rreshtave dhe kolonave\n",
    "\n",
    "dataset.shape"
   ],
   "metadata": {
    "collapsed": false
   },
   "id": "39f3785a2bb2af98"
  },
  {
   "cell_type": "code",
   "execution_count": null,
   "outputs": [],
   "source": [
    "# Integrimi\n",
    "\n",
    "dataset['MUAJI/VITI'] = dataset['MUAJI'].astype(str) + '/' + dataset['VITI'].astype(str)"
   ],
   "metadata": {
    "collapsed": false
   },
   "id": "d3be5fe636546894"
  },
  {
   "cell_type": "code",
   "execution_count": null,
   "outputs": [],
   "source": [
    "# Agregimi\n",
    "\n",
    "Vlerat_bazuar_ne_vite = dataset.groupby('VITI')['VLERA'].sum()\n",
    "print(Vlerat_bazuar_ne_vite)"
   ],
   "metadata": {
    "collapsed": false
   },
   "id": "70427c93fc09c9ad"
  }
 ],
 "metadata": {
  "kernelspec": {
   "display_name": "Python 3",
   "language": "python",
   "name": "python3"
  },
  "language_info": {
   "codemirror_mode": {
    "name": "ipython",
    "version": 2
   },
   "file_extension": ".py",
   "mimetype": "text/x-python",
   "name": "python",
   "nbconvert_exporter": "python",
   "pygments_lexer": "ipython2",
   "version": "2.7.6"
  }
 },
 "nbformat": 4,
 "nbformat_minor": 5
}
