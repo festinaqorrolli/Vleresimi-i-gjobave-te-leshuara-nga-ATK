{
 "cells": [
  {
   "cell_type": "code",
   "execution_count": 2,
   "id": "initial_id",
   "metadata": {
    "collapsed": true,
    "ExecuteTime": {
     "end_time": "2023-11-19T21:51:43.734890300Z",
     "start_time": "2023-11-19T21:51:43.450584200Z"
    }
   },
   "outputs": [],
   "source": [
    "# Librarite e perdorura \n",
    "\n",
    "import pandas as pd\n",
    "from sklearn.decomposition import PCA\n",
    "import matplotlib.pyplot as plt\n",
    "import seaborn as sns\n",
    "import numpy as np"
   ]
  },
  {
   "cell_type": "code",
   "execution_count": 3,
   "outputs": [],
   "source": [
    "# Leximi i dataset-it nga source!\n",
    "\n",
    "dataset=pd.read_csv('../data/gjobat-e-leshuara.csv')"
   ],
   "metadata": {
    "collapsed": false,
    "ExecuteTime": {
     "end_time": "2023-11-19T21:51:43.774365500Z",
     "start_time": "2023-11-19T21:51:43.735736600Z"
    }
   },
   "id": "17190ac5e066a078"
  },
  {
   "cell_type": "code",
   "execution_count": 4,
   "outputs": [
    {
     "name": "stdout",
     "output_type": "stream",
     "text": [
      "              VITI  MUAJI                                PERSHKRIMI_SEKTORIT  \\\n",
      "0          1  2020     12                                       Ndertimtaria   \n",
      "1          2  2017      7                      Aktivitetet e tjera sherbyese   \n",
      "2          3  2023      7                      Aktivitetet e tjera sherbyese   \n",
      "3          4  2022      3  Tregtia me shumice dhe pakice; Riparimi i mjet...   \n",
      "4          5  2021      4  Tregtia me shumice dhe pakice; Riparimi i mjet...   \n",
      "...      ...   ...    ...                                                ...   \n",
      "29702  29703  2022      1                                       Ndertimtaria   \n",
      "29703  29704  2021      2                               Industria perpunuese   \n",
      "29704  29705  2023      5                    Bujqesia;Pylltaria dhe Peshkimi   \n",
      "29705  29706  2017      3  Tregtia me shumice dhe pakice; Riparimi i mjet...   \n",
      "29706  29707  2019     10                                       Ndertimtaria   \n",
      "\n",
      "      LLOJI_KOMPANISE        KOMUNA  PEN_NO                PEN_TYPE_DESC_F  \\\n",
      "0          Individual       DRAGASH     405   Nd.Neni.53(2.1)-Law 03/L-222   \n",
      "1          Individual          VITI     405   Nd.Neni.53(2.1)-Law 03/L-222   \n",
      "2          Individual      VUSHTRRI     404    Nd.Neni.53 (1)-Law 03/L-222   \n",
      "3             SH.P.K.  FUSHË KOSOVË     422      Nd.Neni.53.6-Law 03/L-222   \n",
      "4          Individual         DEÇAN     422      Nd.Neni.53.6-Law 03/L-222   \n",
      "...               ...           ...     ...                            ...   \n",
      "29702         SH.P.K.        GJILAN     408   Nd.Neni.53(2.4)-Law 03/L-222   \n",
      "29703      Individual       FERIZAJ     405   Nd.Neni.53(2.1)-Law 03/L-222   \n",
      "29704      Individual       RAHOVEC     422      Nd.Neni.53.6-Law 03/L-222   \n",
      "29705         SH.P.K.  FUSHË KOSOVË     407  Nd.Neni.53( 2.3)-Law 03/L-222   \n",
      "29706      Individual       RAHOVEC     422      Nd.Neni.53.6-Law 03/L-222   \n",
      "\n",
      "       NR_TATIMIT  NR_GJOBAVE   VLERA  \n",
      "0               3           3   375.0  \n",
      "1               2           2   250.0  \n",
      "2               1           1   125.0  \n",
      "3               2           2  1500.0  \n",
      "4               3           3   375.0  \n",
      "...           ...         ...     ...  \n",
      "29702           1           1  1000.0  \n",
      "29703           1           1   125.0  \n",
      "29704           1           1   125.0  \n",
      "29705           1           1   500.0  \n",
      "29706           1           1   250.0  \n",
      "\n",
      "[29707 rows x 11 columns]\n"
     ]
    }
   ],
   "source": [
    "# Para Procesimi\n",
    "\n",
    "# Kontrollojme se a mungon ndonje vlere\n",
    "\n",
    "dataset.isnull().sum()\n",
    "\n",
    "# Ndryshimi i emrave te kolonave te caktuara\n",
    "\n",
    "dataset.rename(columns={'LLOJI_KOMPAN': 'LLOJI_KOMPANISE', 'NR_TATIM': 'NR_TATIMIT'}, inplace=True)\n",
    "print(dataset)"
   ],
   "metadata": {
    "collapsed": false,
    "ExecuteTime": {
     "end_time": "2023-11-19T21:51:43.790657700Z",
     "start_time": "2023-11-19T21:51:43.779334Z"
    }
   },
   "id": "b464b89b6826aa85"
  },
  {
   "cell_type": "code",
   "execution_count": 5,
   "outputs": [
    {
     "name": "stdout",
     "output_type": "stream",
     "text": [
      "                         int64\n",
      "VITI                     int64\n",
      "MUAJI                    int64\n",
      "PERSHKRIMI_SEKTORIT     object\n",
      "LLOJI_KOMPANISE         object\n",
      "KOMUNA                  object\n",
      "PEN_NO                   int64\n",
      "PEN_TYPE_DESC_F         object\n",
      "NR_TATIMIT               int64\n",
      "NR_GJOBAVE               int64\n",
      "VLERA                  float64\n",
      "dtype: object\n"
     ]
    }
   ],
   "source": [
    "# Definimi i tipeve\n",
    "\n",
    "print(dataset.dtypes)"
   ],
   "metadata": {
    "collapsed": false,
    "ExecuteTime": {
     "end_time": "2023-11-19T21:51:43.795491900Z",
     "start_time": "2023-11-19T21:51:43.789695Z"
    }
   },
   "id": "14d9bc7e761ca51c"
  },
  {
   "cell_type": "code",
   "execution_count": 6,
   "outputs": [
    {
     "data": {
      "text/plain": "(29707, 11)"
     },
     "execution_count": 6,
     "metadata": {},
     "output_type": "execute_result"
    }
   ],
   "source": [
    "# Paraqitja e numrit te rreshtave dhe kolonave\n",
    "\n",
    "dataset.shape"
   ],
   "metadata": {
    "collapsed": false,
    "ExecuteTime": {
     "end_time": "2023-11-19T21:51:43.806934100Z",
     "start_time": "2023-11-19T21:51:43.797868400Z"
    }
   },
   "id": "39f3785a2bb2af98"
  },
  {
   "cell_type": "code",
   "execution_count": 7,
   "outputs": [],
   "source": [
    "# Integrimi\n",
    "\n",
    "dataset['MUAJI/VITI'] = dataset['MUAJI'].astype(str) + '/' + dataset['VITI'].astype(str)"
   ],
   "metadata": {
    "collapsed": false,
    "ExecuteTime": {
     "end_time": "2023-11-19T21:51:43.871112600Z",
     "start_time": "2023-11-19T21:51:43.805935700Z"
    }
   },
   "id": "d3be5fe636546894"
  },
  {
   "cell_type": "code",
   "execution_count": 8,
   "outputs": [
    {
     "name": "stdout",
     "output_type": "stream",
     "text": [
      "VITI\n",
      "2017    4493793.67\n",
      "2018    5292878.74\n",
      "2019    4051990.32\n",
      "2020    2536865.26\n",
      "2021    4527659.25\n",
      "2022    5517707.53\n",
      "2023    3240372.68\n",
      "Name: VLERA, dtype: float64\n"
     ]
    }
   ],
   "source": [
    "# Agregimi\n",
    "\n",
    "Vlerat_bazuar_ne_vite = dataset.groupby('VITI')['VLERA'].sum()\n",
    "print(Vlerat_bazuar_ne_vite)"
   ],
   "metadata": {
    "collapsed": false,
    "ExecuteTime": {
     "end_time": "2023-11-19T21:51:43.884541Z",
     "start_time": "2023-11-19T21:51:43.830016700Z"
    }
   },
   "id": "70427c93fc09c9ad"
  },
  {
   "cell_type": "code",
   "execution_count": 9,
   "outputs": [
    {
     "name": "stdout",
     "output_type": "stream",
     "text": [
      "Mostrimi random:\n",
      "              VITI  MUAJI                                PERSHKRIMI_SEKTORIT  \\\n",
      "8211    8212  2021      4  Tregtia me shumice dhe pakice; Riparimi i mjet...   \n",
      "8218    8219  2022      7                          Transporti dhe magazinimi   \n",
      "18729  18730  2020      6                    Akomodimi dhe sherbimi ushqimor   \n",
      "14034  14035  2023      6                      Aktivitetet e tjera sherbyese   \n",
      "13433  13434  2021      8  Tregtia me shumice dhe pakice; Riparimi i mjet...   \n",
      "...      ...   ...    ...                                                ...   \n",
      "5824    5825  2018      7                    Akomodimi dhe sherbimi ushqimor   \n",
      "11839  11840  2020     12  Tregtia me shumice dhe pakice; Riparimi i mjet...   \n",
      "9040    9041  2018      2  Tregtia me shumice dhe pakice; Riparimi i mjet...   \n",
      "12691  12692  2020      7                                       Person Fizik   \n",
      "4546    4547  2018      4  Tregtia me shumice dhe pakice; Riparimi i mjet...   \n",
      "\n",
      "         LLOJI_KOMPANISE        KOMUNA  PEN_NO                PEN_TYPE_DESC_F  \\\n",
      "8211             SH.P.K.       PRIZREN     407  Nd.Neni.53( 2.3)-Law 03/L-222   \n",
      "8218   Shoqëri akcionare       FERIZAJ     422      Nd.Neni.53.6-Law 03/L-222   \n",
      "18729            SH.P.K.       FERIZAJ     405   Nd.Neni.53(2.1)-Law 03/L-222   \n",
      "14034         Individual     MITROVICË     422      Nd.Neni.53.6-Law 03/L-222   \n",
      "13433            SH.P.K.     SKENDERAJ     422      Nd.Neni.53.6-Law 03/L-222   \n",
      "...                  ...           ...     ...                            ...   \n",
      "5824          Individual      KAMENICË     405   Nd.Neni.53(2.1)-Law 03/L-222   \n",
      "11839            SH.P.K.          VITI     406   Nd.Neni.53(2.2)-Law 03/L-222   \n",
      "9040          Individual     PRISHTINË     407  Nd.Neni.53( 2.3)-Law 03/L-222   \n",
      "12691       Person fizik       FERIZAJ     408   Nd.Neni.53(2.4)-Law 03/L-222   \n",
      "4546             SH.P.K.  FUSHË KOSOVË     422      Nd.Neni.53.6-Law 03/L-222   \n",
      "\n",
      "       NR_TATIMIT  NR_GJOBAVE   VLERA MUAJI/VITI  \n",
      "8211            1           1   500.0     4/2021  \n",
      "8218            1           2  1500.0     7/2022  \n",
      "18729           1           1   125.0     6/2020  \n",
      "14034           1           1   125.0     6/2023  \n",
      "13433           1           1   125.0     8/2021  \n",
      "...           ...         ...     ...        ...  \n",
      "5824            1           1   125.0     7/2018  \n",
      "11839           2           2   500.0    12/2020  \n",
      "9040            3           6  3000.0     2/2018  \n",
      "12691           1           1  1000.0     7/2020  \n",
      "4546            1           1  1000.0     4/2018  \n",
      "\n",
      "[100 rows x 12 columns]\n"
     ]
    }
   ],
   "source": [
    "# Mostrimi\n",
    "\n",
    "gjatesia_e_mostres = 100 \n",
    "mostra = dataset.sample(n=gjatesia_e_mostres, random_state=42)\n",
    "\n",
    "print(\"Mostrimi random:\")\n",
    "print(mostra)"
   ],
   "metadata": {
    "collapsed": false,
    "ExecuteTime": {
     "end_time": "2023-11-19T21:51:43.884541Z",
     "start_time": "2023-11-19T21:51:43.838222500Z"
    }
   },
   "id": "c247c3aeeaf5dc50"
  },
  {
   "cell_type": "code",
   "execution_count": 10,
   "outputs": [
    {
     "name": "stdout",
     "output_type": "stream",
     "text": [
      "Numri i rreshtave dhe kolonave para pastrimit\n",
      "(29707, 12)\n",
      "Paraqitja e kolonave qe permbajne vlera null:\n",
      "                       0\n",
      "VITI                   0\n",
      "MUAJI                  0\n",
      "PERSHKRIMI_SEKTORIT    0\n",
      "LLOJI_KOMPANISE        0\n",
      "KOMUNA                 0\n",
      "PEN_NO                 0\n",
      "PEN_TYPE_DESC_F        0\n",
      "NR_TATIMIT             0\n",
      "NR_GJOBAVE             0\n",
      "VLERA                  0\n",
      "MUAJI/VITI             0\n",
      "dtype: int64\n",
      "\n",
      "\n",
      "Rreshtat duplikat:\n",
      "0\n",
      "\n",
      "\n",
      "Vlerat që u larguan (outliers):\n",
      "12       14000.00\n",
      "41       12000.00\n",
      "83       26000.00\n",
      "120      12000.00\n",
      "144       9000.00\n",
      "           ...   \n",
      "29532    19000.00\n",
      "29535     9000.00\n",
      "29547    37265.63\n",
      "29590     8875.00\n",
      "29687    10000.00\n",
      "Name: VLERA, Length: 406, dtype: float64\n",
      "Forma origjinale e datasetit: (29301, 11)\n",
      "Numri i rreshtave dhe kolonave pas pastrimit\n",
      "(29301, 11)\n"
     ]
    }
   ],
   "source": [
    "# Pastrimi\n",
    "\n",
    "print(\"Numri i rreshtave dhe kolonave para pastrimit\")\n",
    "print(dataset.shape)\n",
    "\n",
    "# Emertimi i rregullt i kolones \"KOMUNA\"\n",
    "dataset['KOMUNA'] = dataset['KOMUNA'].str.replace('Ã‹', 'Ë')\n",
    "\n",
    "print(\"Paraqitja e kolonave qe permbajne vlera null:\")\n",
    "print(dataset.isnull().sum())\n",
    "print(\"\\n\")\n",
    "\n",
    "print(\"Rreshtat duplikat:\")\n",
    "print(dataset.duplicated().sum())\n",
    "print(\"\\n\")\n",
    "\n",
    "#Largon kolonen e pare\n",
    "dataset = dataset.drop(dataset.columns[0], axis=1)\n",
    "\n",
    "# Outliners\n",
    "\n",
    "# Llogarit z-scores për kolonën e përcaktuar\n",
    "z_scores = (dataset['VLERA'] - dataset['VLERA'].mean()) / dataset['VLERA'].std()\n",
    "\n",
    "# Caktimi i pragut per konsiderimin e te dhënave si outliers (p.sh., 3 devijimet standard)\n",
    "pragu = 3\n",
    "# Krijo një maske per te identifikuar outliers\n",
    "maska_outliers = abs(z_scores) >= pragu\n",
    "\n",
    "# Nxirr dhe printo vlerat që u larguan (outliers)\n",
    "vlerat_e_larguara = dataset.loc[maska_outliers, 'VLERA']\n",
    "print(\"Vlerat që u larguan (outliers):\")\n",
    "print(vlerat_e_larguara)\n",
    "\n",
    "# Krijo një dataset të ri pa outliers\n",
    "dataset = dataset[~maska_outliers]\n",
    "\n",
    "# Shfaq informata rreth datasetit para dhe pas largimit të outliers\n",
    "print(f\"Forma origjinale e datasetit: {dataset.shape}\")\n",
    "\n",
    "# Zevendsimi i vlerave lowercase ne uppercase per kolonen 'KOMUNA'\n",
    "dataset['KOMUNA'] = dataset['KOMUNA'].str.upper()\n",
    "\n",
    "print(\"Numri i rreshtave dhe kolonave pas pastrimit\")\n",
    "print(dataset.shape)\n"
   ],
   "metadata": {
    "collapsed": false,
    "ExecuteTime": {
     "end_time": "2023-11-19T21:51:43.893873Z",
     "start_time": "2023-11-19T21:51:43.850119200Z"
    }
   },
   "id": "11c3ab9aae861c94"
  },
  {
   "cell_type": "code",
   "execution_count": 11,
   "outputs": [
    {
     "name": "stdout",
     "output_type": "stream",
     "text": [
      "Printimi i dataset-it pas insertimit te kolones unike.\n",
      "                                                ID_UNIKE  VITI  MUAJI  \\\n",
      "0                        12/2020_Ndertimtaria_Individual  2020     12   \n",
      "1        7/2017_Aktivitetet e tjera sherbyese_Individual  2017      7   \n",
      "2        7/2023_Aktivitetet e tjera sherbyese_Individual  2023      7   \n",
      "3      3/2022_Tregtia me shumice dhe pakice; Riparimi...  2022      3   \n",
      "4      4/2021_Tregtia me shumice dhe pakice; Riparimi...  2021      4   \n",
      "...                                                  ...   ...    ...   \n",
      "29702                        1/2022_Ndertimtaria_SH.P.K.  2022      1   \n",
      "29703             2/2021_Industria perpunuese_Individual  2021      2   \n",
      "29704  5/2023_Bujqesia;Pylltaria dhe Peshkimi_Individual  2023      5   \n",
      "29705  3/2017_Tregtia me shumice dhe pakice; Riparimi...  2017      3   \n",
      "29706                    10/2019_Ndertimtaria_Individual  2019     10   \n",
      "\n",
      "                                     PERSHKRIMI_SEKTORIT LLOJI_KOMPANISE  \\\n",
      "0                                           Ndertimtaria      Individual   \n",
      "1                          Aktivitetet e tjera sherbyese      Individual   \n",
      "2                          Aktivitetet e tjera sherbyese      Individual   \n",
      "3      Tregtia me shumice dhe pakice; Riparimi i mjet...         SH.P.K.   \n",
      "4      Tregtia me shumice dhe pakice; Riparimi i mjet...      Individual   \n",
      "...                                                  ...             ...   \n",
      "29702                                       Ndertimtaria         SH.P.K.   \n",
      "29703                               Industria perpunuese      Individual   \n",
      "29704                    Bujqesia;Pylltaria dhe Peshkimi      Individual   \n",
      "29705  Tregtia me shumice dhe pakice; Riparimi i mjet...         SH.P.K.   \n",
      "29706                                       Ndertimtaria      Individual   \n",
      "\n",
      "             KOMUNA  PEN_NO                PEN_TYPE_DESC_F  NR_TATIMIT  \\\n",
      "0           DRAGASH     405   Nd.Neni.53(2.1)-Law 03/L-222           3   \n",
      "1              VITI     405   Nd.Neni.53(2.1)-Law 03/L-222           2   \n",
      "2          VUSHTRRI     404    Nd.Neni.53 (1)-Law 03/L-222           1   \n",
      "3      FUSHË KOSOVË     422      Nd.Neni.53.6-Law 03/L-222           2   \n",
      "4             DEÇAN     422      Nd.Neni.53.6-Law 03/L-222           3   \n",
      "...             ...     ...                            ...         ...   \n",
      "29702        GJILAN     408   Nd.Neni.53(2.4)-Law 03/L-222           1   \n",
      "29703       FERIZAJ     405   Nd.Neni.53(2.1)-Law 03/L-222           1   \n",
      "29704       RAHOVEC     422      Nd.Neni.53.6-Law 03/L-222           1   \n",
      "29705  FUSHË KOSOVË     407  Nd.Neni.53( 2.3)-Law 03/L-222           1   \n",
      "29706       RAHOVEC     422      Nd.Neni.53.6-Law 03/L-222           1   \n",
      "\n",
      "       NR_GJOBAVE   VLERA MUAJI/VITI  \n",
      "0               3   375.0    12/2020  \n",
      "1               2   250.0     7/2017  \n",
      "2               1   125.0     7/2023  \n",
      "3               2  1500.0     3/2022  \n",
      "4               3   375.0     4/2021  \n",
      "...           ...     ...        ...  \n",
      "29702           1  1000.0     1/2022  \n",
      "29703           1   125.0     2/2021  \n",
      "29704           1   125.0     5/2023  \n",
      "29705           1   500.0     3/2017  \n",
      "29706           1   250.0    10/2019  \n",
      "\n",
      "[29301 rows x 12 columns]\n"
     ]
    }
   ],
   "source": [
    "# Identifikimi\n",
    "\n",
    "# Shtoni identifikuesin në kolonën e parë\n",
    "dataset.insert(0, 'ID_UNIKE', dataset['MUAJI'].astype(str)+'/'+dataset['VITI'].astype(str) + '_' + dataset['PERSHKRIMI_SEKTORIT'] + '_' + dataset['LLOJI_KOMPANISE'])\n",
    "\n",
    "print(\"Printimi i dataset-it pas insertimit te kolones unike.\")\n",
    "print(dataset)"
   ],
   "metadata": {
    "collapsed": false,
    "ExecuteTime": {
     "end_time": "2023-11-19T21:51:43.957805500Z",
     "start_time": "2023-11-19T21:51:43.888835500Z"
    }
   },
   "id": "40cfa725ad042650"
  },
  {
   "cell_type": "code",
   "execution_count": 12,
   "outputs": [
    {
     "name": "stdout",
     "output_type": "stream",
     "text": [
      "Vlera mesatare eshte: 792.1392051465821\n",
      "                                                ID_UNIKE  VITI  MUAJI  \\\n",
      "0                        12/2020_Ndertimtaria_Individual  2020     12   \n",
      "1        7/2017_Aktivitetet e tjera sherbyese_Individual  2017      7   \n",
      "2        7/2023_Aktivitetet e tjera sherbyese_Individual  2023      7   \n",
      "3      3/2022_Tregtia me shumice dhe pakice; Riparimi...  2022      3   \n",
      "4      4/2021_Tregtia me shumice dhe pakice; Riparimi...  2021      4   \n",
      "...                                                  ...   ...    ...   \n",
      "29702                        1/2022_Ndertimtaria_SH.P.K.  2022      1   \n",
      "29703             2/2021_Industria perpunuese_Individual  2021      2   \n",
      "29704  5/2023_Bujqesia;Pylltaria dhe Peshkimi_Individual  2023      5   \n",
      "29705  3/2017_Tregtia me shumice dhe pakice; Riparimi...  2017      3   \n",
      "29706                    10/2019_Ndertimtaria_Individual  2019     10   \n",
      "\n",
      "                                     PERSHKRIMI_SEKTORIT LLOJI_KOMPANISE  \\\n",
      "0                                           Ndertimtaria      Individual   \n",
      "1                          Aktivitetet e tjera sherbyese      Individual   \n",
      "2                          Aktivitetet e tjera sherbyese      Individual   \n",
      "3      Tregtia me shumice dhe pakice; Riparimi i mjet...         SH.P.K.   \n",
      "4      Tregtia me shumice dhe pakice; Riparimi i mjet...      Individual   \n",
      "...                                                  ...             ...   \n",
      "29702                                       Ndertimtaria         SH.P.K.   \n",
      "29703                               Industria perpunuese      Individual   \n",
      "29704                    Bujqesia;Pylltaria dhe Peshkimi      Individual   \n",
      "29705  Tregtia me shumice dhe pakice; Riparimi i mjet...         SH.P.K.   \n",
      "29706                                       Ndertimtaria      Individual   \n",
      "\n",
      "             KOMUNA  PEN_NO                PEN_TYPE_DESC_F  NR_TATIMIT  \\\n",
      "0           DRAGASH     405   Nd.Neni.53(2.1)-Law 03/L-222           3   \n",
      "1              VITI     405   Nd.Neni.53(2.1)-Law 03/L-222           2   \n",
      "2          VUSHTRRI     404    Nd.Neni.53 (1)-Law 03/L-222           1   \n",
      "3      FUSHË KOSOVË     422      Nd.Neni.53.6-Law 03/L-222           2   \n",
      "4             DEÇAN     422      Nd.Neni.53.6-Law 03/L-222           3   \n",
      "...             ...     ...                            ...         ...   \n",
      "29702        GJILAN     408   Nd.Neni.53(2.4)-Law 03/L-222           1   \n",
      "29703       FERIZAJ     405   Nd.Neni.53(2.1)-Law 03/L-222           1   \n",
      "29704       RAHOVEC     422      Nd.Neni.53.6-Law 03/L-222           1   \n",
      "29705  FUSHË KOSOVË     407  Nd.Neni.53( 2.3)-Law 03/L-222           1   \n",
      "29706       RAHOVEC     422      Nd.Neni.53.6-Law 03/L-222           1   \n",
      "\n",
      "       NR_GJOBAVE   VLERA MUAJI/VITI  BINARIZED_VLERA  \n",
      "0               3   375.0    12/2020                0  \n",
      "1               2   250.0     7/2017                0  \n",
      "2               1   125.0     7/2023                0  \n",
      "3               2  1500.0     3/2022                1  \n",
      "4               3   375.0     4/2021                0  \n",
      "...           ...     ...        ...              ...  \n",
      "29702           1  1000.0     1/2022                1  \n",
      "29703           1   125.0     2/2021                0  \n",
      "29704           1   125.0     5/2023                0  \n",
      "29705           1   500.0     3/2017                0  \n",
      "29706           1   250.0    10/2019                0  \n",
      "\n",
      "[29301 rows x 13 columns]\n"
     ]
    }
   ],
   "source": [
    "#Binarizimi\n",
    "average_vlera = dataset['VLERA'].mean()\n",
    "\n",
    "dataset['BINARIZED_VLERA'] = dataset['VLERA'].apply(lambda x: 1 if x > average_vlera else 0)\n",
    "\n",
    "print(f\"Vlera mesatare eshte: {average_vlera}\")\n",
    "\n",
    "print(dataset)"
   ],
   "metadata": {
    "collapsed": false,
    "ExecuteTime": {
     "end_time": "2023-11-19T21:51:43.957805500Z",
     "start_time": "2023-11-19T21:51:43.922632400Z"
    }
   },
   "id": "a18d3c89f13a0535"
  },
  {
   "cell_type": "code",
   "execution_count": 13,
   "outputs": [
    {
     "name": "stdout",
     "output_type": "stream",
     "text": [
      "Each unique 'PEN_NO' is associated with a unique 'PEN_TYPE_DESC_F': True\n"
     ]
    }
   ],
   "source": [
    "#Zgjedhja  e nenbashkesive si veti\n",
    "# Check if each unique 'PEN_NO' is associated with a unique 'PEN_TYPE_DESC_F'\n",
    "is_pen_no_associated = dataset.groupby('PEN_NO')['PEN_TYPE_DESC_F'].nunique().eq(1).all()\n",
    "\n",
    "# Print the result\n",
    "print(f\"Each unique 'PEN_NO' is associated with a unique 'PEN_TYPE_DESC_F': {is_pen_no_associated}\")\n"
   ],
   "metadata": {
    "collapsed": false,
    "ExecuteTime": {
     "end_time": "2023-11-19T21:51:43.958808200Z",
     "start_time": "2023-11-19T21:51:43.938029300Z"
    }
   },
   "id": "ae6d56e0d8da796"
  },
  {
   "cell_type": "code",
   "execution_count": 14,
   "outputs": [
    {
     "name": "stdout",
     "output_type": "stream",
     "text": [
      "Dataseti fillestar:\n",
      "              VITI  MUAJI                                PERSHKRIMI_SEKTORIT  \\\n",
      "0          1  2020     12                                       Ndertimtaria   \n",
      "1          2  2017      7                      Aktivitetet e tjera sherbyese   \n",
      "2          3  2023      7                      Aktivitetet e tjera sherbyese   \n",
      "3          4  2022      3  Tregtia me shumice dhe pakice; Riparimi i mjet...   \n",
      "4          5  2021      4  Tregtia me shumice dhe pakice; Riparimi i mjet...   \n",
      "...      ...   ...    ...                                                ...   \n",
      "29702  29703  2022      1                                       Ndertimtaria   \n",
      "29703  29704  2021      2                               Industria perpunuese   \n",
      "29704  29705  2023      5                    Bujqesia;Pylltaria dhe Peshkimi   \n",
      "29705  29706  2017      3  Tregtia me shumice dhe pakice; Riparimi i mjet...   \n",
      "29706  29707  2019     10                                       Ndertimtaria   \n",
      "\n",
      "      LLOJI_KOMPAN        KOMUNA  PEN_NO                PEN_TYPE_DESC_F  \\\n",
      "0       Individual       DRAGASH     405   Nd.Neni.53(2.1)-Law 03/L-222   \n",
      "1       Individual          VITI     405   Nd.Neni.53(2.1)-Law 03/L-222   \n",
      "2       Individual      VUSHTRRI     404    Nd.Neni.53 (1)-Law 03/L-222   \n",
      "3          SH.P.K.  FUSHË KOSOVË     422      Nd.Neni.53.6-Law 03/L-222   \n",
      "4       Individual         DEÇAN     422      Nd.Neni.53.6-Law 03/L-222   \n",
      "...            ...           ...     ...                            ...   \n",
      "29702      SH.P.K.        GJILAN     408   Nd.Neni.53(2.4)-Law 03/L-222   \n",
      "29703   Individual       FERIZAJ     405   Nd.Neni.53(2.1)-Law 03/L-222   \n",
      "29704   Individual       RAHOVEC     422      Nd.Neni.53.6-Law 03/L-222   \n",
      "29705      SH.P.K.  FUSHË KOSOVË     407  Nd.Neni.53( 2.3)-Law 03/L-222   \n",
      "29706   Individual       RAHOVEC     422      Nd.Neni.53.6-Law 03/L-222   \n",
      "\n",
      "       NR_TATIM  NR_GJOBAVE   VLERA  \n",
      "0             3           3   375.0  \n",
      "1             2           2   250.0  \n",
      "2             1           1   125.0  \n",
      "3             2           2  1500.0  \n",
      "4             3           3   375.0  \n",
      "...         ...         ...     ...  \n",
      "29702         1           1  1000.0  \n",
      "29703         1           1   125.0  \n",
      "29704         1           1   125.0  \n",
      "29705         1           1   500.0  \n",
      "29706         1           1   250.0  \n",
      "\n",
      "[29707 rows x 11 columns]\n",
      "Dataseti pas preprocesimit\n",
      "                                                ID_UNIKE  VITI  MUAJI  \\\n",
      "0                        12/2020_Ndertimtaria_Individual  2020     12   \n",
      "1        7/2017_Aktivitetet e tjera sherbyese_Individual  2017      7   \n",
      "2        7/2023_Aktivitetet e tjera sherbyese_Individual  2023      7   \n",
      "3      3/2022_Tregtia me shumice dhe pakice; Riparimi...  2022      3   \n",
      "4      4/2021_Tregtia me shumice dhe pakice; Riparimi...  2021      4   \n",
      "...                                                  ...   ...    ...   \n",
      "29702                        1/2022_Ndertimtaria_SH.P.K.  2022      1   \n",
      "29703             2/2021_Industria perpunuese_Individual  2021      2   \n",
      "29704  5/2023_Bujqesia;Pylltaria dhe Peshkimi_Individual  2023      5   \n",
      "29705  3/2017_Tregtia me shumice dhe pakice; Riparimi...  2017      3   \n",
      "29706                    10/2019_Ndertimtaria_Individual  2019     10   \n",
      "\n",
      "                                     PERSHKRIMI_SEKTORIT LLOJI_KOMPANISE  \\\n",
      "0                                           Ndertimtaria      Individual   \n",
      "1                          Aktivitetet e tjera sherbyese      Individual   \n",
      "2                          Aktivitetet e tjera sherbyese      Individual   \n",
      "3      Tregtia me shumice dhe pakice; Riparimi i mjet...         SH.P.K.   \n",
      "4      Tregtia me shumice dhe pakice; Riparimi i mjet...      Individual   \n",
      "...                                                  ...             ...   \n",
      "29702                                       Ndertimtaria         SH.P.K.   \n",
      "29703                               Industria perpunuese      Individual   \n",
      "29704                    Bujqesia;Pylltaria dhe Peshkimi      Individual   \n",
      "29705  Tregtia me shumice dhe pakice; Riparimi i mjet...         SH.P.K.   \n",
      "29706                                       Ndertimtaria      Individual   \n",
      "\n",
      "             KOMUNA  PEN_NO                PEN_TYPE_DESC_F  NR_TATIMIT  \\\n",
      "0           DRAGASH     405   Nd.Neni.53(2.1)-Law 03/L-222           3   \n",
      "1              VITI     405   Nd.Neni.53(2.1)-Law 03/L-222           2   \n",
      "2          VUSHTRRI     404    Nd.Neni.53 (1)-Law 03/L-222           1   \n",
      "3      FUSHË KOSOVË     422      Nd.Neni.53.6-Law 03/L-222           2   \n",
      "4             DEÇAN     422      Nd.Neni.53.6-Law 03/L-222           3   \n",
      "...             ...     ...                            ...         ...   \n",
      "29702        GJILAN     408   Nd.Neni.53(2.4)-Law 03/L-222           1   \n",
      "29703       FERIZAJ     405   Nd.Neni.53(2.1)-Law 03/L-222           1   \n",
      "29704       RAHOVEC     422      Nd.Neni.53.6-Law 03/L-222           1   \n",
      "29705  FUSHË KOSOVË     407  Nd.Neni.53( 2.3)-Law 03/L-222           1   \n",
      "29706       RAHOVEC     422      Nd.Neni.53.6-Law 03/L-222           1   \n",
      "\n",
      "       NR_GJOBAVE   VLERA MUAJI/VITI  BINARIZED_VLERA  \n",
      "0               3   375.0    12/2020                0  \n",
      "1               2   250.0     7/2017                0  \n",
      "2               1   125.0     7/2023                0  \n",
      "3               2  1500.0     3/2022                1  \n",
      "4               3   375.0     4/2021                0  \n",
      "...           ...     ...        ...              ...  \n",
      "29702           1  1000.0     1/2022                1  \n",
      "29703           1   125.0     2/2021                0  \n",
      "29704           1   125.0     5/2023                0  \n",
      "29705           1   500.0     3/2017                0  \n",
      "29706           1   250.0    10/2019                0  \n",
      "\n",
      "[29301 rows x 13 columns]\n"
     ]
    }
   ],
   "source": [
    "# PARAQITJA PARA DHE PAS E DATASETIT\n",
    "\n",
    "dataset_preprocessed = dataset.copy()\n",
    "dataset=pd.read_csv('../data/gjobat-e-leshuara.csv')\n",
    "\n",
    "#paraqitja e datasetit fillestar\n",
    "print (\"Dataseti fillestar:\")\n",
    "print(dataset)\n",
    "\n",
    "#paraqitja e datasetit te preprocesuar\n",
    "print (\"Dataseti pas preprocesimit\")\n",
    "print (dataset_preprocessed)"
   ],
   "metadata": {
    "collapsed": false,
    "ExecuteTime": {
     "end_time": "2023-11-19T21:51:44.036737500Z",
     "start_time": "2023-11-19T21:51:43.950800Z"
    }
   },
   "id": "97a6455aad2cd4fc"
  }
 ],
 "metadata": {
  "kernelspec": {
   "display_name": "Python 3",
   "language": "python",
   "name": "python3"
  },
  "language_info": {
   "codemirror_mode": {
    "name": "ipython",
    "version": 2
   },
   "file_extension": ".py",
   "mimetype": "text/x-python",
   "name": "python",
   "nbconvert_exporter": "python",
   "pygments_lexer": "ipython2",
   "version": "2.7.6"
  }
 },
 "nbformat": 4,
 "nbformat_minor": 5
}
